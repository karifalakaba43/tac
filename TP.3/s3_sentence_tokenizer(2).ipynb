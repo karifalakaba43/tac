{
 "cells": [
  {
   "cell_type": "markdown",
   "metadata": {},
   "source": [
    "# Segmentation en phrases"
   ]
  },
  {
   "cell_type": "markdown",
   "metadata": {},
   "source": [
    "## Imports"
   ]
  },
  {
   "cell_type": "code",
   "execution_count": 1,
   "metadata": {},
   "outputs": [],
   "source": [
    "import os\n",
    "import sys\n",
    "import nltk\n",
    "from nltk.tokenize import sent_tokenize"
   ]
  },
  {
   "cell_type": "markdown",
   "metadata": {},
   "source": [
    "## Fichiers d'inputs et d'outputs"
   ]
  },
  {
   "cell_type": "code",
   "execution_count": 2,
   "metadata": {},
   "outputs": [],
   "source": [
    "infile = \"../data/all.txt\"\n",
    "outfile = \"../data/sents.txt\""
   ]
  },
  {
   "cell_type": "markdown",
   "metadata": {},
   "source": [
    "## Segmentation en phrases du corpus complet et création d'un nouveau fichier"
   ]
  },
  {
   "cell_type": "markdown",
   "metadata": {},
   "source": [
    "**Important** : pour traiter le corpus complet, indiquez `LIMIT = None`"
   ]
  },
  {
   "cell_type": "code",
   "execution_count": 3,
   "metadata": {},
   "outputs": [],
   "source": [
    "LIMIT = 1000000"
   ]
  },
  {
   "cell_type": "code",
   "execution_count": 4,
   "metadata": {
    "tags": []
   },
   "outputs": [
    {
     "name": "stdout",
     "output_type": "stream",
     "text": [
      "processing line 0/7936\n",
      "processing line 100/7936\n",
      "processing line 200/7936\n",
      "processing line 300/7936\n",
      "processing line 400/7936\n",
      "processing line 500/7936\n",
      "processing line 600/7936\n",
      "processing line 700/7936\n",
      "processing line 800/7936\n",
      "processing line 900/7936\n",
      "processing line 1000/7936\n",
      "processing line 1100/7936\n",
      "processing line 1200/7936\n",
      "processing line 1300/7936\n",
      "processing line 1400/7936\n",
      "processing line 1500/7936\n",
      "processing line 1600/7936\n",
      "processing line 1700/7936\n",
      "processing line 1800/7936\n",
      "processing line 1900/7936\n",
      "processing line 2000/7936\n",
      "processing line 2100/7936\n",
      "processing line 2200/7936\n",
      "processing line 2300/7936\n",
      "processing line 2400/7936\n",
      "processing line 2500/7936\n",
      "processing line 2600/7936\n",
      "processing line 2700/7936\n",
      "processing line 2800/7936\n",
      "processing line 2900/7936\n",
      "processing line 3000/7936\n",
      "processing line 3100/7936\n",
      "processing line 3200/7936\n",
      "processing line 3300/7936\n",
      "processing line 3400/7936\n",
      "processing line 3500/7936\n",
      "processing line 3600/7936\n",
      "processing line 3700/7936\n",
      "processing line 3800/7936\n",
      "processing line 3900/7936\n",
      "processing line 4000/7936\n",
      "processing line 4100/7936\n",
      "processing line 4200/7936\n",
      "processing line 4300/7936\n",
      "processing line 4400/7936\n",
      "processing line 4500/7936\n",
      "processing line 4600/7936\n",
      "processing line 4700/7936\n",
      "processing line 4800/7936\n",
      "processing line 4900/7936\n",
      "processing line 5000/7936\n",
      "processing line 5100/7936\n",
      "processing line 5200/7936\n",
      "processing line 5300/7936\n",
      "processing line 5400/7936\n",
      "processing line 5500/7936\n",
      "processing line 5600/7936\n",
      "processing line 5700/7936\n",
      "processing line 5800/7936\n",
      "processing line 5900/7936\n",
      "processing line 6000/7936\n",
      "processing line 6100/7936\n",
      "processing line 6200/7936\n",
      "processing line 6300/7936\n",
      "processing line 6400/7936\n",
      "processing line 6500/7936\n",
      "processing line 6600/7936\n",
      "processing line 6700/7936\n",
      "processing line 6800/7936\n",
      "processing line 6900/7936\n",
      "processing line 7000/7936\n",
      "processing line 7100/7936\n",
      "processing line 7200/7936\n",
      "processing line 7300/7936\n",
      "processing line 7400/7936\n",
      "processing line 7500/7936\n",
      "processing line 7600/7936\n",
      "processing line 7700/7936\n",
      "processing line 7800/7936\n",
      "processing line 7900/7936\n",
      "Done\n"
     ]
    }
   ],
   "source": [
    "with open(outfile, 'w', encoding=\"utf-8\") as output:\n",
    "    with open(infile, encoding=\"utf-8\", errors=\"backslashreplace\") as f:\n",
    "        content = f.readlines()\n",
    "        content = content[:LIMIT] if LIMIT is not None else content\n",
    "        n_lines = len(content)\n",
    "        for i, line in enumerate(content):\n",
    "            if i % 100 == 0:\n",
    "                print(f'processing line {i}/{n_lines}')\n",
    "            sentences = sent_tokenize(line)\n",
    "            for sent in sentences:\n",
    "                output.write(sent + \"\\n\")\n",
    "print(\"Done\")"
   ]
  }
 ],
 "metadata": {
  "kernelspec": {
   "display_name": "Python 3.10.7 ('tac_venv': venv)",
   "language": "python",
   "name": "python3"
  },
  "language_info": {
   "codemirror_mode": {
    "name": "ipython",
    "version": 3
   },
   "file_extension": ".py",
   "mimetype": "text/x-python",
   "name": "python",
   "nbconvert_exporter": "python",
   "pygments_lexer": "ipython3",
   "version": "3.10.7"
  },
  "vscode": {
   "interpreter": {
    "hash": "4d4aa92c91ff20a7f731610d6030887aa3052b801eaf689def2ca205c2a2e316"
   }
  }
 },
 "nbformat": 4,
 "nbformat_minor": 4
}
