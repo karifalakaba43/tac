{
 "cells": [
  {
   "cell_type": "markdown",
   "metadata": {},
   "source": [
    "# Sentiment analysis avec Textblob-FR"
   ]
  },
  {
   "cell_type": "markdown",
   "metadata": {},
   "source": [
    "Documentation: https://textblob.readthedocs.io/en/dev/"
   ]
  },
  {
   "cell_type": "markdown",
   "metadata": {},
   "source": [
    "## Imports"
   ]
  },
  {
   "cell_type": "code",
   "execution_count": 1,
   "metadata": {},
   "outputs": [],
   "source": [
    "import sys\n",
    "from textblob import Blobber\n",
    "from textblob_fr import PatternTagger, PatternAnalyzer"
   ]
  },
  {
   "cell_type": "markdown",
   "metadata": {},
   "source": [
    "## Fonction"
   ]
  },
  {
   "cell_type": "code",
   "execution_count": 2,
   "metadata": {},
   "outputs": [],
   "source": [
    "tb = Blobber(pos_tagger=PatternTagger(), analyzer=PatternAnalyzer())\n",
    "\n",
    "def get_sentiment(input_text):\n",
    "    blob = tb(input_text)\n",
    "    polarity, subjectivity = blob.sentiment\n",
    "    polarity_perc = f\"{100*abs(polarity):.0f}\"\n",
    "    subjectivity_perc = f\"{100*subjectivity:.0f}\"\n",
    "    if polarity > 0:\n",
    "        polarity_str = f\"{polarity_perc}% positive\"\n",
    "    elif polarity < 0:\n",
    "        polarity_str = f\"{polarity_perc}% negative\"\n",
    "    else:\n",
    "        polarity_str = \"neutral\"\n",
    "    if subjectivity > 0:\n",
    "        subjectivity_str = f\"{subjectivity}% subjective\"\n",
    "    else:\n",
    "        subjectivity_str = \"perfectly objective\"\n",
    "    print(f\"This text is {polarity_str} and {subjectivity_str}.\")"
   ]
  },
  {
   "cell_type": "markdown",
   "metadata": {},
   "source": [
    "## Analyser le sentiment d'une phrase"
   ]
  },
  {
   "cell_type": "code",
   "execution_count": 3,
   "metadata": {
    "tags": []
   },
   "outputs": [
    {
     "name": "stdout",
     "output_type": "stream",
     "text": [
      "This text is neutral and perfectly objective.\n"
     ]
    }
   ],
   "source": [
    "get_sentiment(\"En outre, 12 chasseurs nord-coréens ont été détruits\")"
   ]
  },
  {
   "cell_type": "code",
   "execution_count": 4,
   "metadata": {
    "tags": []
   },
   "outputs": [
    {
     "name": "stdout",
     "output_type": "stream",
     "text": [
      "This text is neutral and perfectly objective.\n"
     ]
    }
   ],
   "source": [
    "get_sentiment(\"On rapporte que, conformément à l’ordre du général Mac Arthur, des bases aériennes de Corée du Nord ont été bombardées.\")"
   ]
  },
  {
   "cell_type": "code",
   "execution_count": 5,
   "metadata": {},
   "outputs": [
    {
     "name": "stdout",
     "output_type": "stream",
     "text": [
      "This text is 18% positive and 0.22000000000000003% subjective.\n"
     ]
    }
   ],
   "source": [
    "get_sentiment(\"Les informations déclarent que des réunions publiques ont lieu par tout pour soutenir cette campagne et que les orateurs condamnent l’intervention américaine en Corée et la qualifient « d’agression dirigée contre tous les peuples pacifiques du monde et foulant aux pieds la charte des Nations-Unies.\")"
   ]
  },
  {
   "cell_type": "code",
   "execution_count": 6,
   "metadata": {},
   "outputs": [
    {
     "name": "stdout",
     "output_type": "stream",
     "text": [
      "This text is 24% positive and 0.18% subjective.\n"
     ]
    }
   ],
   "source": [
    "get_sentiment(\"On a fait sauter un pont principal alors que la plus grande partie de la ville était encore entre les mains des Sudistes et que trois tanks seulement avaient été observés.\")"
   ]
  },
  {
   "cell_type": "code",
   "execution_count": 7,
   "metadata": {},
   "outputs": [
    {
     "name": "stdout",
     "output_type": "stream",
     "text": [
      "This text is neutral and 0.19999999999999998% subjective.\n"
     ]
    }
   ],
   "source": [
    "get_sentiment(\"Le dynamitage du pont eut même lieu alors que les troupes de la Corée du Sud étaient entassées, les pare-chocs au contact sur le tablier du pont, avec le personnel de la mission militaire américaine.\")"
   ]
  },
  {
   "cell_type": "code",
   "execution_count": 8,
   "metadata": {},
   "outputs": [
    {
     "name": "stdout",
     "output_type": "stream",
     "text": [
      "This text is 11% positive and 0.125% subjective.\n"
     ]
    }
   ],
   "source": [
    "get_sentiment(\"Finalement, à l’aube, il' devint clair que le seul espoir de n’être pas capturé par les Nordistes était de partir rapidement en laissant derrière soi tous véhicules et bagages personnels.\")"
   ]
  },
  {
   "cell_type": "code",
   "execution_count": 9,
   "metadata": {},
   "outputs": [
    {
     "name": "stdout",
     "output_type": "stream",
     "text": [
      "This text is 2% positive and 0.15% subjective.\n"
     ]
    }
   ],
   "source": [
    "get_sentiment(\"Même le ministre de l’Intérieur coréen, qui en plus de ses charges officielles fut autrefois un prêtre bouddhiste, allait à pied avec un paquet sur le dos.\")"
   ]
  },
  {
   "cell_type": "code",
   "execution_count": 10,
   "metadata": {},
   "outputs": [
    {
     "name": "stdout",
     "output_type": "stream",
     "text": [
      "This text is 11% positive and 0.21250000000000002% subjective.\n"
     ]
    }
   ],
   "source": [
    "get_sentiment(\"Dans la capitale provisoire, Suwon, gui débordait de camions, de matériel japonais, américain, ou pris aux rouges, les Américains et les Coréens essayaient frénétiquement de réorganiser les troupes fraîches et les régiments démembrés en unités aptes au combat.\")"
   ]
  },
  {
   "cell_type": "code",
   "execution_count": 11,
   "metadata": {},
   "outputs": [
    {
     "name": "stdout",
     "output_type": "stream",
     "text": [
      "This text is neutral and 0.2% subjective.\n"
     ]
    }
   ],
   "source": [
    "get_sentiment(\"Les Coréens n’ont jusqu’ici aucun char, bien qu’ils puissent en recevoir bientôt.\")"
   ]
  },
  {
   "cell_type": "code",
   "execution_count": 12,
   "metadata": {},
   "outputs": [
    {
     "name": "stdout",
     "output_type": "stream",
     "text": [
      "This text is 12% positive and 0.13% subjective.\n"
     ]
    }
   ],
   "source": [
    "get_sentiment(\"Le pape Pie XII a pris aujourd’hui une décision importante qu’on croit viser principalement les gouvernements communistes d’Europe orientale, en décrétant l’excommunication « de ceux qui conspirent contre les autorités ecclésiastiques légitimes ».\")"
   ]
  },
  {
   "cell_type": "code",
   "execution_count": 13,
   "metadata": {},
   "outputs": [
    {
     "name": "stdout",
     "output_type": "stream",
     "text": [
      "This text is 5% negative and 0.13333333333333333% subjective.\n"
     ]
    }
   ],
   "source": [
    "get_sentiment(\"Le porte-parole a signalé que l’U.R.S.S. n’a pas encore répondu à la demande faite par la Grande- Bretagne au gouvernement soviétique pour qu’il use de son influence sur la Corée du nord en vue de mettre un terme aux combats.\")"
   ]
  },
  {
   "cell_type": "code",
   "execution_count": 14,
   "metadata": {},
   "outputs": [
    {
     "name": "stdout",
     "output_type": "stream",
     "text": [
      "This text is 6% positive and 0.08% subjective.\n"
     ]
    }
   ],
   "source": [
    "get_sentiment(\"La campagne de meetings de protestation contre l’intervention américaine en Corée du nord se déveveloppe dans toute l’U.R.S.S., où de nombreuses réunions se sont tenues, hier notamment, dans les régions de Stalingrad et de Leningrad.\")"
   ]
  },
  {
   "cell_type": "code",
   "execution_count": 15,
   "metadata": {},
   "outputs": [
    {
     "name": "stdout",
     "output_type": "stream",
     "text": [
      "This text is 4% positive and 0.17500000000000002% subjective.\n"
     ]
    }
   ],
   "source": [
    "get_sentiment(\"La fluidité des lignes, à l’heure actuelle, fait qu’il est bien possible que les Australiens aient attaqué par erreur les lignes américaines.\")"
   ]
  },
  {
   "cell_type": "code",
   "execution_count": 16,
   "metadata": {},
   "outputs": [
    {
     "name": "stdout",
     "output_type": "stream",
     "text": [
      "This text is 7% negative and 0.075% subjective.\n"
     ]
    }
   ],
   "source": [
    "get_sentiment(\"De nombreuses familles ont réussi à fuir à l’intérieur même de la Hongrie.\")"
   ]
  },
  {
   "cell_type": "code",
   "execution_count": 17,
   "metadata": {},
   "outputs": [
    {
     "name": "stdout",
     "output_type": "stream",
     "text": [
      "This text is neutral and perfectly objective.\n"
     ]
    }
   ],
   "source": [
    "get_sentiment(\"Après trois jours d’hésitation et de l’aviation annonça au quartier général què six chars nordistes étaient entrés dans la ville.\")"
   ]
  },
  {
   "cell_type": "code",
   "execution_count": 18,
   "metadata": {},
   "outputs": [
    {
     "name": "stdout",
     "output_type": "stream",
     "text": [
      "This text is 8% positive and 0.05% subjective.\n"
     ]
    }
   ],
   "source": [
    "get_sentiment(\"Lundi et mardi, des appareils du porte-avions britannique et ceux du porte-avions américain « Valey Force », attaquèrent Pyongyang.\")"
   ]
  },
  {
   "cell_type": "code",
   "execution_count": 19,
   "metadata": {},
   "outputs": [
    {
     "name": "stdout",
     "output_type": "stream",
     "text": [
      "This text is 7% positive and 0.07500000000000001% subjective.\n"
     ]
    }
   ],
   "source": [
    "get_sentiment(\"Le commandant en chef de la marine américaine en Extrême-Orient annonce que « la flotte combinée anglo-américaine a attaqué les installations de l’aérodrome de Pyongyang, capitale de la Corée du nord, les 3 et 4 juillet.\")"
   ]
  },
  {
   "cell_type": "code",
   "execution_count": 20,
   "metadata": {},
   "outputs": [
    {
     "name": "stdout",
     "output_type": "stream",
     "text": [
      "This text is 1% positive and 0.08% subjective.\n"
     ]
    }
   ],
   "source": [
    "get_sentiment(\"C’est la première fois, depuis deux ans, que des diplomates soviétiques et orientaux acceptent une invitation officielle à la légation des Etats-Unis.\")"
   ]
  }
 ],
 "metadata": {
  "kernelspec": {
   "display_name": "Python 3.10.7 ('tac_venv': venv)",
   "language": "python",
   "name": "python3"
  },
  "language_info": {
   "codemirror_mode": {
    "name": "ipython",
    "version": 3
   },
   "file_extension": ".py",
   "mimetype": "text/x-python",
   "name": "python",
   "nbconvert_exporter": "python",
   "pygments_lexer": "ipython3",
   "version": "3.10.7"
  },
  "vscode": {
   "interpreter": {
    "hash": "4d4aa92c91ff20a7f731610d6030887aa3052b801eaf689def2ca205c2a2e316"
   }
  }
 },
 "nbformat": 4,
 "nbformat_minor": 4
}
