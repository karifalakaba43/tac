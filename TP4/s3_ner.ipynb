{
 "cells": [
  {
   "cell_type": "markdown",
   "metadata": {},
   "source": [
    "# Reconnaissance d'entités nommées avec SpaCy"
   ]
  },
  {
   "cell_type": "markdown",
   "metadata": {},
   "source": [
    "La documentation est accessible ici: https://spacy.io/api"
   ]
  },
  {
   "cell_type": "markdown",
   "metadata": {},
   "source": [
    "## Imports"
   ]
  },
  {
   "cell_type": "code",
   "execution_count": 1,
   "metadata": {},
   "outputs": [],
   "source": [
    "from collections import defaultdict\n",
    "import sys\n",
    "import spacy\n",
    "from spacy.lang.fr.examples import sentences"
   ]
  },
  {
   "cell_type": "code",
   "execution_count": 2,
   "metadata": {},
   "outputs": [],
   "source": [
    "nlp = spacy.load('fr_core_news_md')"
   ]
  },
  {
   "cell_type": "markdown",
   "metadata": {},
   "source": [
    "## Appliquer la reconnaissance d'entités nommées sur notre corpus"
   ]
  },
  {
   "cell_type": "code",
   "execution_count": 3,
   "metadata": {},
   "outputs": [],
   "source": [
    "# Charger le texte\n",
    "n=900000\n",
    "text = open(\"../data/sents.txt\", encoding='utf-8').read()[:n]"
   ]
  },
  {
   "cell_type": "code",
   "execution_count": 4,
   "metadata": {},
   "outputs": [
    {
     "name": "stdout",
     "output_type": "stream",
     "text": [
      "CPU times: user 52.7 s, sys: 3.26 s, total: 55.9 s\n",
      "Wall time: 57 s\n"
     ]
    }
   ],
   "source": [
    "%%time\n",
    "# Traiter le texte\n",
    "\n",
    "doc = nlp(text)"
   ]
  },
  {
   "cell_type": "code",
   "execution_count": 5,
   "metadata": {},
   "outputs": [],
   "source": [
    "# Compter les entités\n",
    "people = defaultdict(int)\n",
    "for ent in doc.ents:\n",
    "    if ent.label_ == \"PER\" and len(ent.text) > 3:\n",
    "        people[ent.text] += 1"
   ]
  },
  {
   "cell_type": "code",
   "execution_count": 6,
   "metadata": {},
   "outputs": [
    {
     "name": "stdout",
     "output_type": "stream",
     "text": [
      "Mac Arthur apparait 53 fois dans le corpus\n",
      "Staline apparait 43 fois dans le corpus\n",
      "Nehru apparait 40 fois dans le corpus\n",
      "P. S. C. apparait 26 fois dans le corpus\n",
      "M. Duvieusart apparait 25 fois dans le corpus\n",
      "président Truman apparait 23 fois dans le corpus\n",
      "M. Churchill apparait 21 fois dans le corpus\n",
      "M. Malik apparait 21 fois dans le corpus\n",
      "M. Gromyko apparait 19 fois dans le corpus\n",
      "Prince Royal apparait 19 fois dans le corpus\n",
      "A. P. apparait 17 fois dans le corpus\n",
      "M. Spaak apparait 16 fois dans le corpus\n",
      "Léopold III apparait 16 fois dans le corpus\n",
      "Attlee apparait 14 fois dans le corpus\n",
      "Spaak apparait 13 fois dans le corpus\n",
      "M. Struye apparait 13 fois dans le corpus\n",
      "A. F. P. apparait 13 fois dans le corpus\n",
      "Hitler apparait 13 fois dans le corpus\n",
      "prince Baudouin apparait 11 fois dans le corpus\n",
      "Sir David Kelly apparait 10 fois dans le corpus\n",
      "Léopold apparait 10 fois dans le corpus\n",
      "Prince Régent apparait 9 fois dans le corpus\n",
      "M. Acheson apparait 9 fois dans le corpus\n",
      "Bixler apparait 9 fois dans le corpus\n",
      "Schmitt apparait 9 fois dans le corpus\n",
      "M. Attlee apparait 8 fois dans le corpus\n",
      "Schuman apparait 8 fois dans le corpus\n",
      "Churchill apparait 8 fois dans le corpus\n",
      "Albert apparait 8 fois dans le corpus\n",
      "M. Hoste apparait 7 fois dans le corpus\n",
      "Washington apparait 7 fois dans le corpus\n",
      "Soviets apparait 7 fois dans le corpus\n",
      "M. Nehru apparait 7 fois dans le corpus\n",
      "Robert DE apparait 6 fois dans le corpus\n",
      "M. van Zeeland apparait 6 fois dans le corpus\n",
      "Duvieusart apparait 6 fois dans le corpus\n",
      "Trygve Lie apparait 6 fois dans le corpus\n",
      "M. Lie apparait 6 fois dans le corpus\n",
      "Président apparait 6 fois dans le corpus\n",
      "Lyautey apparait 6 fois dans le corpus\n",
      "M. Truman apparait 5 fois dans le corpus\n",
      "M. Doutrepont apparait 5 fois dans le corpus\n",
      "M. De Bruyne apparait 5 fois dans le corpus\n",
      "van Zeeland apparait 5 fois dans le corpus\n",
      "M. Dean Acheson apparait 5 fois dans le corpus\n",
      "Monsieur apparait 5 fois dans le corpus\n",
      "M. Segers apparait 5 fois dans le corpus\n",
      "Pie XII apparait 4 fois dans le corpus\n",
      "Truman apparait 4 fois dans le corpus\n",
      "Rolin apparait 4 fois dans le corpus\n"
     ]
    }
   ],
   "source": [
    "# Trier et imprimer\n",
    "\n",
    "sorted_people = sorted(people.items(), key=lambda kv: kv[1], reverse=True)\n",
    "\n",
    "for person, freq in sorted_people[:50]:\n",
    "    print(f\"{person} apparait {freq} fois dans le corpus\")"
   ]
  },
  {
   "cell_type": "markdown",
   "metadata": {},
   "source": [
    "Exercice: essayez de lister les lieux (LOC) et les organisations (ORG) les plus mentionnées dans le corpus"
   ]
  },
  {
   "cell_type": "code",
   "execution_count": 7,
   "metadata": {},
   "outputs": [],
   "source": [
    "# Compter les entités\n",
    "organisations = defaultdict(int)\n",
    "for ent in doc.ents:\n",
    "    if ent.label_ == \"ORG\" and len(ent.text) > 3:\n",
    "        organisations[ent.text] += 1\n"
   ]
  },
  {
   "cell_type": "code",
   "execution_count": 8,
   "metadata": {},
   "outputs": [
    {
     "name": "stdout",
     "output_type": "stream",
     "text": [
      "Conseil apparait 60 fois dans le corpus\n",
      "Reuter apparait 55 fois dans le corpus\n",
      "Conseil de Sécurité apparait 45 fois dans le corpus\n",
      "Nations-Unies apparait 36 fois dans le corpus\n",
      "Chambre apparait 27 fois dans le corpus\n",
      "Parlement apparait 27 fois dans le corpus\n",
      "Sénat apparait 26 fois dans le corpus\n",
      "Assemblée apparait 24 fois dans le corpus\n",
      "U.R.S.S. apparait 23 fois dans le corpus\n",
      "Chambres apparait 23 fois dans le corpus\n",
      "Tokio apparait 21 fois dans le corpus\n",
      "Benelux apparait 19 fois dans le corpus\n",
      "O.N.U. apparait 16 fois dans le corpus\n",
      "Constitution apparait 14 fois dans le corpus\n",
      "Conseil de l’Europe apparait 14 fois dans le corpus\n",
      "ministre de la Défense apparait 12 fois dans le corpus\n",
      "ZURICH apparait 12 fois dans le corpus\n",
      "Times apparait 11 fois dans le corpus\n",
      "TELEPHONES apparait 11 fois dans le corpus\n",
      "Le Soir apparait 10 fois dans le corpus\n",
      "Commission apparait 10 fois dans le corpus\n",
      "Appl apparait 9 fois dans le corpus\n",
      "ministre des Affaires apparait 8 fois dans le corpus\n",
      "Comité apparait 8 fois dans le corpus\n",
      "Assemblée consultative européenne apparait 8 fois dans le corpus\n",
      "Foreign Office apparait 7 fois dans le corpus\n",
      "Tass apparait 7 fois dans le corpus\n",
      "Conseil de sécurité apparait 7 fois dans le corpus\n",
      "Nordistes apparait 7 fois dans le corpus\n",
      "ministre de l’Intérieur apparait 6 fois dans le corpus\n",
      "Mustang apparait 6 fois dans le corpus\n",
      "Union Soviétique apparait 6 fois dans le corpus\n",
      "ministre des Finances apparait 6 fois dans le corpus\n",
      "Associated Press apparait 6 fois dans le corpus\n",
      "Congrès apparait 6 fois dans le corpus\n",
      "Comité des ministres apparait 6 fois dans le corpus\n",
      "Nations- Unies apparait 5 fois dans le corpus\n",
      "Etats- Unis apparait 5 fois dans le corpus\n",
      "Union européenne apparait 5 fois dans le corpus\n",
      "plan Marshall apparait 5 fois dans le corpus\n",
      "pONS apparait 5 fois dans le corpus\n",
      "Nations Unies apparait 5 fois dans le corpus\n",
      "Assemblée consultative apparait 5 fois dans le corpus\n",
      "Union soviétique apparait 4 fois dans le corpus\n",
      "DOUTREPONT apparait 4 fois dans le corpus\n",
      "Yougoslavie apparait 4 fois dans le corpus\n",
      "Président apparait 4 fois dans le corpus\n",
      "RUE ROYALE apparait 4 fois dans le corpus\n",
      "Manchester Guardian apparait 4 fois dans le corpus\n",
      "ministère des Affaires étrangères soviétique apparait 3 fois dans le corpus\n"
     ]
    }
   ],
   "source": [
    "sorted_organisations = sorted(organisations.items(), key=lambda kv: kv[1], reverse=True)\n",
    "\n",
    "for organisation, freq in sorted_organisations[:50]:\n",
    "        print(f\"{organisation} apparait {freq} fois dans le corpus\")\n"
   ]
  },
  {
   "cell_type": "code",
   "execution_count": 9,
   "metadata": {},
   "outputs": [],
   "source": [
    "# Compter les entités\n",
    "locations = defaultdict(int)\n",
    "for ent in doc.ents:\n",
    "    if ent.label_ == \"LOC\" and len(ent.text) > 3:\n",
    "        locations[ent.text] += 1"
   ]
  },
  {
   "cell_type": "code",
   "execution_count": 10,
   "metadata": {},
   "outputs": [
    {
     "name": "stdout",
     "output_type": "stream",
     "text": [
      "Corée apparait 190 fois dans le corpus\n",
      "Etats-Unis apparait 100 fois dans le corpus\n",
      "Belgique apparait 78 fois dans le corpus\n",
      "Bruxelles apparait 72 fois dans le corpus\n",
      "Américains apparait 70 fois dans le corpus\n",
      "Etat apparait 57 fois dans le corpus\n",
      "Grande-Bretagne apparait 56 fois dans le corpus\n",
      "Londres apparait 52 fois dans le corpus\n",
      "Moscou apparait 51 fois dans le corpus\n",
      "Anvers apparait 51 fois dans le corpus\n",
      "Paris apparait 47 fois dans le corpus\n",
      "Allemagne apparait 45 fois dans le corpus\n",
      "Washington apparait 44 fois dans le corpus\n",
      "Russie apparait 37 fois dans le corpus\n",
      "Coréens apparait 37 fois dans le corpus\n",
      "Europe apparait 37 fois dans le corpus\n",
      "Inde apparait 37 fois dans le corpus\n",
      "Séoul apparait 36 fois dans le corpus\n",
      "la Chine apparait 35 fois dans le corpus\n",
      "la France apparait 32 fois dans le corpus\n",
      "Taejon apparait 29 fois dans le corpus\n",
      "Angleterre apparait 27 fois dans le corpus\n",
      "Formose apparait 26 fois dans le corpus\n",
      "Nord apparait 26 fois dans le corpus\n",
      "Belges apparait 26 fois dans le corpus\n",
      "Suwon apparait 25 fois dans le corpus\n",
      "Nordistes apparait 24 fois dans le corpus\n",
      "Ostende apparait 23 fois dans le corpus\n",
      "Corée du Sud apparait 20 fois dans le corpus\n",
      "Corée du Nord apparait 20 fois dans le corpus\n",
      "Nord-Coréens apparait 19 fois dans le corpus\n",
      "Taegu apparait 18 fois dans le corpus\n",
      "Berlin apparait 17 fois dans le corpus\n",
      "Extrême-Orient apparait 16 fois dans le corpus\n",
      "Rome apparait 16 fois dans le corpus\n",
      "France apparait 16 fois dans le corpus\n",
      "Suisse apparait 15 fois dans le corpus\n",
      "Occident apparait 15 fois dans le corpus\n",
      "Suède apparait 15 fois dans le corpus\n",
      "Pyongyang apparait 14 fois dans le corpus\n",
      "Bourse apparait 14 fois dans le corpus\n",
      "Chinju apparait 14 fois dans le corpus\n",
      "Pékin apparait 13 fois dans le corpus\n",
      "Asie apparait 13 fois dans le corpus\n",
      "Russes apparait 13 fois dans le corpus\n",
      "Chine apparait 13 fois dans le corpus\n",
      "Liège apparait 13 fois dans le corpus\n",
      "Pusan apparait 12 fois dans le corpus\n",
      "Pays-Bas apparait 12 fois dans le corpus\n",
      "Norvège apparait 12 fois dans le corpus\n"
     ]
    }
   ],
   "source": [
    "sorted_locations = sorted(locations.items(), key=lambda kv: kv[1], reverse=True)\n",
    "\n",
    "for location, freq in sorted_locations[:50]:\n",
    "         print(f\"{location} apparait {freq} fois dans le corpus\")"
   ]
  }
 ],
 "metadata": {
  "kernelspec": {
   "display_name": "Python 3.10.7 ('tac_venv': venv)",
   "language": "python",
   "name": "python3"
  },
  "language_info": {
   "codemirror_mode": {
    "name": "ipython",
    "version": 3
   },
   "file_extension": ".py",
   "mimetype": "text/x-python",
   "name": "python",
   "nbconvert_exporter": "python",
   "pygments_lexer": "ipython3",
   "version": "3.10.7"
  },
  "vscode": {
   "interpreter": {
    "hash": "4d4aa92c91ff20a7f731610d6030887aa3052b801eaf689def2ca205c2a2e316"
   }
  }
 },
 "nbformat": 4,
 "nbformat_minor": 4
}
