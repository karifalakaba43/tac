{
 "cells": [
  {
   "cell_type": "markdown",
   "metadata": {},
   "source": [
    "# Word Embeddings : le modèle Word2Vec"
   ]
  },
  {
   "cell_type": "markdown",
   "metadata": {},
   "source": [
    "## Imports"
   ]
  },
  {
   "cell_type": "code",
   "execution_count": 1,
   "metadata": {},
   "outputs": [],
   "source": [
    "import sys\n",
    "\n",
    "from gensim.models.phrases import Phrases, Phraser\n",
    "from gensim.models import Word2Vec\n",
    "\n",
    "import nltk\n",
    "from nltk.tokenize import wordpunct_tokenize\n",
    "from unidecode import unidecode"
   ]
  },
  {
   "cell_type": "markdown",
   "metadata": {},
   "source": [
    "## Chargement et traitement des phrases du corpus"
   ]
  },
  {
   "cell_type": "markdown",
   "metadata": {},
   "source": [
    "### Création d'un objet qui *streame* les lignes d'un fichier pour économiser de la RAM"
   ]
  },
  {
   "cell_type": "code",
   "execution_count": 2,
   "metadata": {},
   "outputs": [],
   "source": [
    "class MySentences(object):\n",
    "    \"\"\"Tokenize and Lemmatize sentences\"\"\"\n",
    "    def __init__(self, filename):\n",
    "        self.filename = filename\n",
    "\n",
    "    def __iter__(self):\n",
    "        for line in open(self.filename, encoding='utf-8', errors=\"backslashreplace\"):\n",
    "            yield [unidecode(w.lower()) for w in wordpunct_tokenize(line)]"
   ]
  },
  {
   "cell_type": "code",
   "execution_count": 3,
   "metadata": {},
   "outputs": [],
   "source": [
    "infile = f\"../data/sents.txt\"\n",
    "sentences = MySentences(infile)"
   ]
  },
  {
   "cell_type": "markdown",
   "metadata": {},
   "source": [
    "### Détection des bigrams\n",
    "\n",
    "Article intéressant sur le sujet : https://towardsdatascience.com/word2vec-for-phrases-learning-embeddings-for-more-than-one-word-727b6cf723cf"
   ]
  },
  {
   "cell_type": "code",
   "execution_count": 4,
   "metadata": {},
   "outputs": [],
   "source": [
    "bigram_phrases = Phrases(sentences)"
   ]
  },
  {
   "cell_type": "markdown",
   "metadata": {},
   "source": [
    "L'object `phrases` peut être vu comme un large dictionnaire d'expressions multi-mots associées à un score, le *PMI-like scoring*. Ce dictionnaire est construit par un apprentissage sur base d'exemples.\n",
    "Voir les références ci-dessous :\n",
    "- https://arxiv.org/abs/1310.4546\n",
    "- https://en.wikipedia.org/wiki/Pointwise_mutual_information"
   ]
  },
  {
   "cell_type": "code",
   "execution_count": 5,
   "metadata": {},
   "outputs": [
    {
     "data": {
      "text/plain": [
       "dict"
      ]
     },
     "execution_count": 5,
     "metadata": {},
     "output_type": "execute_result"
    }
   ],
   "source": [
    "type(bigram_phrases.vocab)"
   ]
  },
  {
   "cell_type": "markdown",
   "metadata": {},
   "source": [
    "Il contient de nombreuses clés qui sont autant de termes observés dans le corpus"
   ]
  },
  {
   "cell_type": "code",
   "execution_count": 6,
   "metadata": {},
   "outputs": [
    {
     "data": {
      "text/plain": [
       "1022709"
      ]
     },
     "execution_count": 6,
     "metadata": {},
     "output_type": "execute_result"
    }
   ],
   "source": [
    "len(bigram_phrases.vocab.keys())"
   ]
  },
  {
   "cell_type": "markdown",
   "metadata": {},
   "source": [
    "Prenons une clé au hasard :"
   ]
  },
  {
   "cell_type": "code",
   "execution_count": 7,
   "metadata": {},
   "outputs": [
    {
     "name": "stdout",
     "output_type": "stream",
     "text": [
      "arthur\n"
     ]
    }
   ],
   "source": [
    "key_ = list(bigram_phrases.vocab.keys())[144]\n",
    "print(key_)"
   ]
  },
  {
   "cell_type": "markdown",
   "metadata": {},
   "source": [
    "Le dictionnaire indique le score de cette coocurrence :"
   ]
  },
  {
   "cell_type": "code",
   "execution_count": 8,
   "metadata": {},
   "outputs": [
    {
     "data": {
      "text/plain": [
       "1080"
      ]
     },
     "execution_count": 8,
     "metadata": {},
     "output_type": "execute_result"
    }
   ],
   "source": [
    "bigram_phrases.vocab[key_]"
   ]
  },
  {
   "cell_type": "markdown",
   "metadata": {},
   "source": [
    "Lorsque l'instance de `Phrases` a été entraînée, elle peut concaténer les bigrams dans les phrases lorsque c'est pertinent."
   ]
  },
  {
   "cell_type": "markdown",
   "metadata": {},
   "source": [
    "### Conversion des `Phrases` en objet `Phraser`\n",
    "\n",
    "`Phraser` est un alias pour `gensim.models.phrases.FrozenPhrases`, voir ici https://radimrehurek.com/gensim/models/phrases.html.\n",
    "\n",
    "Le `Phraser` est une version *light* du `Phrases`, plus optimale pour transformer les phrases en concaténant les bigrams."
   ]
  },
  {
   "cell_type": "code",
   "execution_count": 9,
   "metadata": {},
   "outputs": [],
   "source": [
    "bigram_phraser = Phraser(phrases_model=bigram_phrases)"
   ]
  },
  {
   "cell_type": "markdown",
   "metadata": {},
   "source": [
    "Le `Phraser` est un objet qui convertit certains unigrams d'une liste en bigrams lorsqu'ils ont été identifiés comme pertinents."
   ]
  },
  {
   "cell_type": "markdown",
   "metadata": {},
   "source": [
    "### Extraction des trigrams"
   ]
  },
  {
   "cell_type": "markdown",
   "metadata": {},
   "source": [
    "Nous répétons l'opération en envoyant cette fois la liste de bigrams afin d'extraire les trigrams."
   ]
  },
  {
   "cell_type": "code",
   "execution_count": 10,
   "metadata": {},
   "outputs": [],
   "source": [
    "trigram_phrases = Phrases(bigram_phraser[sentences])"
   ]
  },
  {
   "cell_type": "code",
   "execution_count": 11,
   "metadata": {},
   "outputs": [],
   "source": [
    "trigram_phraser = Phraser(phrases_model=trigram_phrases)"
   ]
  },
  {
   "cell_type": "markdown",
   "metadata": {},
   "source": [
    "### Création d'un corpus d'unigrams, bigrams, trigrams"
   ]
  },
  {
   "cell_type": "code",
   "execution_count": 12,
   "metadata": {},
   "outputs": [],
   "source": [
    "corpus = list(trigram_phraser[bigram_phraser[sentences]])"
   ]
  },
  {
   "cell_type": "code",
   "execution_count": 13,
   "metadata": {},
   "outputs": [
    {
     "name": "stdout",
     "output_type": "stream",
     "text": [
      "[['une_colonne', 'dee', 'nordiste', 'a', 'perce', 'les', 'lignes', 'jie', 'defense', 'du', 'han', 'l', \"'\", 'aerodrome', 'de', 'won', 'est', 'menace', 'les', 'bombardiers_americains', 'reagissent', 'energiquement', 'washington', ',', '30_juin', '(', 'a', ',', 'pl', 'les', 'blindes', 'de', 'la', 'coree', 'du', 'ifyrd', 'ont', 'perce', 'la', 'ligne', 'de', 'defense', 'sudiste', 'etablie', 'sur', 'le', 'fledve', 'ha', '>>;', 'et', 'ont', 'ainsi', 'dispose', 'de', 'la', 'principale', 'resistance', 'a', 'leur_avance', 'vers', 'le', 'sud', '.'], ['j', 'les', 'forces', 'de', 'la', 'coree', 'du', 'sud', ',', 'deja', 'vivement', 'eprouvees', ',', 'et', 'qui', 'avaient_recu', 'l', \"'\", 'ordre', 'de', 'mac_arthur', 'de', 'tenir', 'la', 'ligne', 'du', 'han', 'a', 'tout', 'prix', ',', 'nont', 'pu', 'resister', 'a', 'un_groupe', 'ce', '40', 'a', '50', 'tanks', 'et', 'vehicules_blindes', 'qui', 'ont_ete_lances', 'dans', 'la', 'bataille', 'par', 'les', 'communistes', ',', 'immediatement', 'au_sud', 'de', 'seoul', '.'], ['on_pense', 'a', 'washington', 'qse', 'le', 'fleuve_han', 'a', 'sans_doute', 'ete', 'franchi', 'a', 'gue', 'ou', 'sur', 'des', 'bacs', 'par', 'les', 'nordistes', ',', 'tous_les', 'ponts', 'ayant', 'saute', '.'], ['on_signale', ',', 'en', 'cmtre', ',', 'que', 'les', 'nordistes_ont', 'occupe', 'une_petite', 'base_navale', 'a', 'nikojin', ',', 'a', 'environ', '15', 'kilometres_au_nord', 'de', 'sanchuk', ',', 'sur', 'la', 'cote_orientale', ',', 'et', 'que', 'les', 'nordistes', 'disposent', 'de', 'deux_divisions', 'appuyees_par', 'neuf', 'tanks', 'dans', 'la', 'region', 'de', 'chunchon', '.'], ['les', 'surperforteresses', 'b_.-', '29', 'et', 'les', 'chasseurs_americains', 'ont', 'patrouille', 'dans', 'le', 'ciel', 'de', 'coree', 'aujourd', \"'\", 'hui', '>>', 'avec', 'ordre', 'de', 'rechercher', 'et', 'de', 'detruire', 'l', \"'\", 'armee', 'de', 'l', \"'\", 'air', 'nordiste', 'et', 'ses', '<<', 'nids', '>>', 'partout_ou', 'elle', 'se_trouve', '.'], ['on_signale', 'que', 'cinq', 'chasseurs', 'nordistes_ont', 'ete_detruits', 'et', 'un', 'probablement', '.'], ['le', 'porte', '-_parole', 'a', 'declare_que', ',', 'les', 'conditions_atmospheriques', 'prevues_pour', 'les', 'prochaines', '36_heures', 'sur', ',', 'le', 'champ', 'de', 'bataille', 'seront', 'assez', 'bonnes', '.'], ['*', 'les', 'bombardiers_americains', 'ont_attaque', 'la', 'nuit_derniere', 'des', 'objec', 'tifs', 'a', 'yongchang', ',', 'seoul', ',', 'ancienne_capitale', 'de', 'coree', 'du', 'sud', ',', 'occupee_par', 'les', 'communistes', ',', 'et', 'uijorigbu', ',', 'a', '20', 'kilometres_au_nord', 'de', 'seoul', '.'], ['une_colonne', 'blindee', 'nordiste', 'menace', 'suwon', 'tokio', ',', 'juillet_(', 'ap', '.)..'], [';', 'on_apprend', 'de', 'source', 'militaire', 'autorisee', 'qu', \"'\", 'une_colonne', 'blindee', 'de', 'nordistes', 'coreens', 'se_trouve', 'aujourd', \"'\", 'hui', 'a', 'au_moins', 'une_vingtaine', 'de', 'kilometres_au_sud', 'du', 'fleuve_han', ',', 'et', 'qu', 'elle', 'menace', 'le', 'q', '.', 'g', '.', 'americain', 'de', 'suwon', '.'], ['le', 'q', '.', 'g', '.', 'du_general_mac', 'arthur', 'a', 'officiellement', 'confirme', 'la', 'nouvelle', 'de', 'la', 'percee', 'operee', 'au_sud', '-', 'ouest', 'de', 'seoul', ',', 'sans_toutefois', 'en', 'preciser', 'la', 'profondeur', '.'], ['on_apprenait', 'toutefois', ',', 'de', 'sources', 'autorisees', ',', 'que', 'les', 'nordistes', 'ne', 'se_trouvaient', ',', 'samedi', 'a', '1', 'heure', 'du_matin', ',', 'qu', \"'\", 'a', '12', 'kilometres', 'de', 'suwon', ',', 'et', 'probablement', 'meme', 'a', 'une', 'distance', 'moins', 'grande', '.'], ['on_ignore', 'si', 'le', 'q', '.', 'g', '.', 'amiricain', 'a', 'ete', 'replie', 'plus', 'au_sud', '.'], ['la', 'pdtte', 'de', 'suwon', 'prierait', 'les', 'forces_defensives', 'de', 'leu', 'dernier', 'grand', 'aerodrome', 'dans', ',', 'la', 'egion', 'situee', 'au_nord', 'de', 'pusan', '.'], ['port', 'situe', 'dans', 'l', \"'\", 'extfemite', '.', 'vsud', '-', 'est', \"'-\", '^', ';', 'ninsule', ',', '4', '262', 'kilometres', 'de', 'la', \".'\"], ['radio', '-', 'seoul', 'a', 'annonce', ',', 'd', \"'\", 'autre_part', ',', 'que', 'les', 'forces', 'nord_-_coreennes', 's', \"'\", 'etaient', 'emparees', 'de', 'l', \"'\", 'ile', 'dekanghv', '.'], ['wa', ',', 'a', '32_kilometres', 'au_nord', 'd', \"'\", 'in', '-_chon', ',', 'le', 'port', 'de', 'seoul', '.'], ['a', 'attaque', 'et', 'mitraille', 'le', 'port', 'd', \"'\", 'in', 'et', 'aeriennes', 'mises', 'a', 'notre', 'disposi', 'chon', ',', 'a', 'l', \"'\", 'ouest', ',', 'et', 'coule', '11', 'bateaux', '_', ',,', '---', 'bateaux', 'cette', 'meme', 'radio', 'annonce', 'qut', 'les', 'troupes', 'de', 'la', 'coree', 'du', 'nord', 'ont_debarque', 'et', 'completement', 'occupe', '111e', 'de', 'kanghwua', ',', 'a', '60', 'kilometres_au_nord', '-', 'ouest', 'de', 'seoul', '.'], ['i', 'bilan', 'des', 'operations_aeriennes', 'americaines', 'washington', ',', '30_juin', '(', 'a', '._p_.).'], ['selon', 'un', 'porte', '-_parole', 'de', 'l', \"'\", 'armee', 'de', 'l', \"'\", 'air', ',', 'le', 'bilan', 'des', 'operations', 'effectuees', 'jusqu', \"'\", 'a', 'hier', 'jeudi', 'par', 'l', \"'\", 'aviation_americaine', 'en_coree', 'comprend', 'la', 'destruction', 'de', '56kcamions', 'nordistes', ',', 'd', \"'\", 'une', 'locomotive', ',', 'de', 'dix', 'wagons', 'et', 'de', '5', 'chars', '.'], ['en_outre', ',', '12', 'chasseurs', 'nord_-_coreens', 'ont_ete_detruits', ',', '5', 'autres', 'l', \"'\", 'ont_ete', 'probablement', 'et', '3', 'chasseiu', '-', 's', 'orft', 'ete_endommages', '.'], ['les', 'superforteresses', '<<', 'b', '.'], ['29', '>>', 'ont_bombarde', 'les', 'aerodromes', 'nordistes', ',', 'et', 'les', 'bombardiers', 'moyens', 'se_sent', 'attaques', 'aux', 'entrepots', 'et', 'aux', 'hen_-', 'gars', '.'], ['j', 'les', 'bombardiers_legers', 'et', \"'.\", 'es', 'chasseurs_americains', 'attaquent', ':', 'es', '>-', 'forces_nordistes', 'a', 'la', 'mitrailleise', 'avec', 'des', 'fusees', ',', 'et', 'utilisent', 'arisi', 'des', 'bombes', 'antipersonnel', '.'], ['le', '_', 'q', '.', 'g', '.', 'des_forces_aeriennes', 'americaines', 'en', 'extreme_-_orient', 'ian', '-', 'nonce', 'que', 'les', 'avions_americains', '-', 'ont_detruit', 'vendredi', '15', 'chars_nordistes', '.'], ['dix', 'navires', 'de', 'guerre', ':', 'britanniques', 'sont_arrives', 'dens', 'les', 'eaux', 'japonaises', '-', 'tokio', ',', '30_juin', '.'], ['(', 'a', '.', 'p_.)', 'dix', 'navires', 'de', 'guerre', 'britanniques', ',', 'dont', 'le', 'porte', '-', 'avions', 'triumph', ',', 'de', '13', ';', '000', 't', '.,', 'sont_arrives', 'dans', 'les', 'eaux', 'japonaises', '.'], ['deux', 'contre', '-', 'torpilleurs', 'australiens', 'sont_attendus', 'a', 'tokio', '.'], ['de', 'canberra', ',', 'capitale', 'de', 'l', \"'\", 'australie', ',', 'le', 'sydney', 'sun', 'rapporte', 'que', 'l', \"'\", 'on', 's', 'attend', 'a', 'ce', '.'], ['que', 'le', 'gouvernement', 'australien', 'reponde', 'affirmativement', 'a', 'l', \"'\", 'appel', 'du_general_mac', 'arthur', 'demandant', 'que', 'des', 'chasseurs', 'australiens', 'participent_aux', 'operations', '/', 'en', 'coreef', 'une_escadrille', 'de', 'musfangs', 'australiens', 'est', 'basee', 'a', 'iwakuni', 'au_japon', '.'], ['le', 'major_general', 'e', '.', 'm', '.', 'almond', 'chef', 'd', \"'\", 'etat_-_major', 'du_general_mac', 'arthur', ',', 'a', 'declare', 'a', 'tokio', ':', '<<', 'nous', 'utiliserons', 'toutes_les', 'unite', 'navales', 'tien', '>', 'bp', 'vice_-_amiral', 'sir', 'patrick', 'brind', 'commandant_en', 'chef', 'des', 'forces_navales', 'britanniques', 'd', \"'\", 'extreme_-_orient', ',', 'estjattendu', 'a', 'tokio', 'ou', 'il', 'doit', 'prendrai', 'le', 'commandement', 'de', 'la', 'flotte', 'anglaise', '.'], ['le', 'capitaine', 'de', 'fregate', 'j', '.', 'm', '.', 'd', '.', 'giay', ',', 'membre', 'de', 'la', 'mission', 'de', 'liaison', 'du', 'royaume_-_uni', 'au_japon', ',', 'a', 'indique_que', 'des', 'unites', 'britanniques', 'etfajustraliennes', 'ont_deja', 'ete', 'placees', 'sepf', 'les', 'ordres', 'du', 'vice_-_amiral', 'c', '.', 't', 'jqy', ',', 'commandant', 'des', 'forces_navales', 'ampicaines', 'en', 'extreme_-_orient', ',', 'et', 'quc', 'les', 'prochains', 'communiques', 'concernant', 'l', \"'\", 'activite', 'des', 'batiments', 'anglais', 'seraient', 'publies', 'par_les_autorites', 'americaines', '.'], ['/', 'une_escadrille', 'australienne', 'mise', 'a', 'la', 'disposition_des_nations', '-_unies', 'sydney', ',', '30_juin', '(', 'a', '._p_.).'], ['m', '.', 'r', '.', 'g', '.', 'menzies', ',', 'premier_ministre', 'd', \"'\", 'australie', ',', 'a', 'declare', 'qu', \"'\", 'une_escadrille', 'de', 'chasse', 'australienne', ',', 'stationnee', 'au_japon', ',', 'avait_ete', 'mise', 'a', 'la', 'disposition_des_nations', '-_unies', '.'], ['<<', 'le', 'gouvernement', 'australien', ',', 'a', 'declare', 'le', 'premier_ministre', ',', 'est', 'fermement', 'decide', 'a', 'remplir', 'ses', 'obligations', 'decoulant', 'de', 'la', 'charte_des_nations', '-_unies', 'et', 'a', 'soutenir', 'la', 'deci', 'sion', 'du_conseil', 'de', 'securite', '.'], ['>>', 'la', 'grande_-_bretagne', 'demande', 'a', 'son_tour', 'a', 'tu', '.', 'r', '.', 's', '.', 's', '.'], ['de', 'cooperer', 'au_retablissement', 'de', 'la', 'paix', 'londres', ',', '30_juin', '(', 'a', '._p_.).'], ['la', 'grande_-_bretagne', 'a', 'demande', 'a', 'la', 'russie', 'de', 'cooperer', 'aux', 'efforts_deployes', 'pour', 'retablir', 'la', 'paix_en_coree', ',', 'a', 'annonce', 'le', 'foreign_office', 'aujourd', \"'\", 'hui', '.'], ['>>', 'un', 'porte', '-_parole', 'de', 'white', 'hall', 'a', 'precise_que', 'c', \"'\", 'est', 'au_cours', 'de', 'la', 'visite', 'faite', 'hier', 'au_ministere_des_affaires', 'etrangeres_sovietique', 'par', 'l', \"'\", 'ambassadeur_britannique', 'sir_david_kelly', ',', 'que', 'cette_demarche', 'a', 'eu_lieu', '.'], ['sir_david', 'a', 'ete_recu', 'par', 'm', '.', 'vladimir', 'pavlov', ',', 'directeur', 'de', 'la', 'section', 'europe', 'et', 'commonwealth', 'du_ministere', 'sovietique', ',', 'qui', 'lui', 'a', 'donne', 'l', \"'\", 'assurance', ';', 'qu', \"'\", 'il', 'transmettrait', 'la', 'billet', 'de', 'londres', 'le', 'commandant', 'des', 'forces_sudistes', 'demissionne', 'tokio', ',', '30_juin', '(_reuter_).'], ['une', 'information', 'envoyee_par', 'le', 'quartier_general_avance', 'americain', 'de', 'suwon', 'declare', 'qu', \"'\", 'il', 'a', '.', 'fallu', 'empecher', 'le', 'commandant', 'des', 'forces_sudistes', ',', 'le', 'general', 'chey', '.'], ['byong', 'duk', ',', 'de', 'se_suicider', 'a', 'la', 'suite', 'de', 'la', 'defaite', 'de', 'son', 'armee', '.'], [',', 'l', \"'\", 'a', '.', 'f', '.', 'p', '.'], ['mande', 'de', 'son_cote', 'que', 'le', 'commandant', 'des_forces_armees', 'sudistes', 'a', 'demissionne', '.'], ['l', \"'\", 'a', '.'], ['p', '.', 'mande', 'que', 'le', 'general', 'demissionnaire', 'a', 'ete', 'remplace_par', 'un_homme', 'plus', 'jeune', ',', 'le', 'general', 'tchang', 'kwon', '.'], ['leconuiionweaifh', 'fait', 'bloc', '(', 'de_notre_envoye', 'permanent', ',', 'j', 'p', '-^', 'oihhie', \"',\", 's', 'ves', ',', 'les', 'anglais', 'afiectent', 'de', '*?', 'sbh', '-', 'ger', 'a', ';', 'autre_chose', '>>.'], ['ayant', 'dit', \"'\", 'hier', 'tout', 'ce', 'qu', \"'\", 'il_y', 'avait', 'a', '.', 'dire', '<!'], ['pour', 'le', 'moment', 'au_sujet', 'de', 'la', 'guerre', 'de', 'coree', ',_la_plupart', 'des', 'journaux', '\"', 'consacrent', 'de', 'longs', 'editoriaux', 'a', 'la', 'decision_du_conseil', 'general', 'des', 'trade_unions', ',', 'qui', 'a', 'reconnu', 'que', 'la', \"'\", 'politique', 'de', 'blocage', 'des_salaires', 'ne_peut', 'pas', 'etre', 'rigousement', 'appliquee', '.'], ['il_y', 'a', 'meme', 'dans', 'le', 'times', ',', 'un', '<<', 'leader', '>>', 'sur', 'le', 'rapport', 'de', 'la', 'societe_nationale', 'des', 'ornithologues', 'et', 'un', 'autre', '<<', 'leader', '>>', 'sur', 'la', 'victoire', 'que', 'les', 'joueurs', 'de', 'tricket', 'antillais', ',', 'riant', 'de', 'bon_coeur', 'de', 'toutes_leurs', 'dents', 'eblouissantes', ',', 'ont', 'remportee', 'hier', 'sur', 'la', 'pelouse', 'de', 'lord', \"'\", 's', ',', 'qui', 'est', 'un', 'des', 'lieux', 'saints', 'de', 'l', \"'\", 'angleterre', 'et', 'ou', 'on', 'n', \"'\", 'avait', 'jamais', 'entendu', 'des', 'antillais', 'improviser', 'une', '<<', 'calypso', ',', 'et', 'pincer', 'de', 'la', 'guitare', '.'], ['d', \"'\", 'autres', 'journaux', 'font', 'de', 'louables', 'eiforts', 'pour', 'interesser', 'leurs', 'lecteurs', 'ajla', '...', 'ieme', 'greve', 'des', 'camionneurs', 'de', 'la', 'halle', 'de', 'smithfield', ':', 'la', 'ration', 'hebdomadaire', 'sera', 'maigre', 'bien', 'que', 'li', 'troupe', 'remplace', 'les', 'grevistes', '.'], ['tout_cela', 'merite', 'de', 'retenir', 'i', \"'\", 'atten', '-', 'ton', 'd', \"'\", 'un', 'peuple', 'calme', ',', 'mais', 'dans', 'lj', 'metro', 'et', 'dans', 'les', 'autobus', ',', 'le', 'mblic', 'ne', 'lit', 'que', 'la', 'premiere_page', 'eps', 'journaux', '--', 'celle', 'ou', 's', \"'\", 'etale', 'les', 'rpuvelles', 'de', 'coree', '.', \"'\"], [']', 'dans', 'les', 'cercles', 'diplomatiques', ',', 'on', 's', 'montre', 'assez', 'soucieux', '.'], ['la', 'repon', '-', 'je', 'de', 'moscou', 'a', 'la', 'note_americaine', 'l', \"'\", 'est', 'guere', 'encourageante', 'et', 'les', 'de', '-', 'darations', 'de', 'mao_tse_tung', 'relatives', 'a', 'formose', 'sont', 'moins', 'rassurants', 'encore', '.'], ['les', 'communistes_chinois', ',', 'j', \"'\", 'apres', 'une_depeche', 'de', 'hong_-_kong', ',', 'l', \"'\", 'appretaient', 'a', 'lancer', 'une', 'offensive', 'jontre', 'le', 'dernier', 'bastion', 'des', 'nationalistes', 'au_moment', 'ou', '-', 'le', 'pre_-', 'jident', 'truman', 'est_intervenu', '.'], ['dans', 'quelques_jours', ',', 'si', 'le', 'gouvernement', 'fe', 'pekin', 'ne', 'renonce', 'pas', 'a', 'ses_projets', ',', 'formose', 'pourrait_etre', 'l', \"'\", 'enjeu', 'les', 'sadistes', 'declarent', 'avoir', 'bombarde', 'pyong', '-', 'yang', 'tokio', ',', '30', '.', 'juin', '.'], ['(', 'a', '.', 'p_.)', 'on', 'rapporte', 'que', ',', 'conformement', 'a', 'l', \"'\", 'ordre', 'du_general_mac', 'arthur', ',', 'des', 'bases_aeriennes', 'de', 'coree', 'du', 'nord', 'ont_ete', 'bombardees', '.'], ['<<', 'notre_aviation', 'a', 'attaque', 'des', 'bases', 'a', 'pyong', '-', 'yang', '>>,', 'a', 'declare', 'un', 'porte', '-_parole', 'sudiste', '.', '.', 'd', \"'\", 'autre_part', 'une_depeche', 'tass', 'decrit', 'le', 'raid', 'de', '27', '<<', 'superforteres', '-', 'ses', '>>', 'americaine', 'sur', 'pyong', '-', 'yang', ',', 'j', 'nc', '(r)', 'par', 'radio', 'coreenne', 'du', 'd', \"'\", 'un', 'conflit', 'plus_grave', 'encore', 'que', 'une', '-', 'operation', 'de', \"'\", 'celui', 'qui', 'a', 'eclate', 'en_coree', '.'], [\"*'\", '-', 'a', '-,', 'detruit', 'def', 'les', 'reactions', 'des', 'pays', 'du', 'com_-', 'nombreux', 'foyers', 'et', 'fait', 'des', 'vieti', '-_monwealth', 'contre', 'l', \"'\", 'invasion', 'cbm', '-', 'mes', 'parmi', 'la', 'population_civile', '.'], ['inuniste', 'de', 'la', 'coree', 'meridionale', 'les', 'nordistes', 'bombardent', 'p', 'nt', 'ete', 'promptes', 'et', 'presque', 'unani', '-', '<<<<', 'u', 'rnes', '.'], ['certains_journaux', 'se_sont', 'at', '-', 'le', 'port', 'a', 'inenon', 'jtaches', 'a', 'demontrer_que', 'le', 'cabinet', 'tokio', ',', '30_juin', '(', 'a', ',', 'p_.),', '.', 'travailliste', 'aurait', 'du', 'consulter', 'les', 'la', 'radio', 'de', 'pyong', 'yang', 'annonce', 'dominions', 'avant', 'd', \"'\", 'appuyer', 'la', 'pro_-', 'que', 'l', \"'\", 'aviation', 'de', 'la', 'coree', 'du', 'nord', 'position', 'des', 'etats_-_unis', 'au_conseil', 'de', 'securite', 'et', 'de', 'mettre', 'la', 'flotte', 'britannique', 'd', \"'\", 'extreme_-_orient', 'g', 'la', 'disposition', 'du', 'commandement_americain', '.'], ['il_ressort', 'cependant', 'des', 'explications', 'que', 'm', '.', 'attlee', 'a', 'donnees', '.', 'a', 'la', 'chambre', 'des_communes', 'que', 'la', 'grande_-_bretagne', 'ne', 's', 'PS', 'regarde', 'pas', 'comme', 'porte', '-_parole', 'du_common', '-', 'uvealth', ':', 'chacun', 'des', 'dominions', 'est', '[', 'entierement', 'independant', '.'], ['le', 'fait', 'que_la_plupart', '^', 'des', 'dominions', 'sont_arrives', 'aux', 'memes', 'conclusions', 'que', 'l', \"'\", 'angleterre', 'est', 'd', \"'\", 'autant_plus', 'significatif', '.'], ['l', \"'\", 'australie', ',', 'la', 'nouvelle', '-_zelande', 'et', 'le', 'canada', 'ont_promis', 'leur', 'concours', 'au_conseil', 'de', 'securite', '.'], ['le', 'delegue_indien', 'au_sein', 'de', 'ce', 'conseil', 's', \"'\", 'etait', 'abstenu', ',', 'n', \"'\", 'ayant', 'pas', 'recu', 'en', 'temps_utile', 'les', 'instructions', 'de', 'son', 'gouvernement', '.'], ['on_sait', 'aujourd', \"'\", 'hui', 'bulletin', 'de', 'llnstitut', 'royal_meteorologique', 'du', '30_juin', 'd', \"'\", 'apres', 'la', 'carte', 'de', '19_heures_situation_atmospherique', '-', 'generale_:', 'un', 'front', 'froid', 'rattache', 'a', 'une_depression_centree', 'au', \"'\", 'nord', 'des', 'iles', 'britannique', 'influence', 'notre_temps', '.'], ['ephemerides', 'z', \"'\", '#', 'soleil_:_lever', ';', '4', '.', '33', ';_coucher', ';', '20', '.', '59', 'lune_:_lever_:', '22', '.', '53', ';_coucher', ':', '5', '.', '4s', 'ostende', ';_marees_hautes', ':', '1', '.', '45', '14', '.', '08', 'ostende_:_marees_basses', ':', '8', '.', '32', '20', '.', '56', 'anvers_:_marees_hautes', ':', '4', '.', '48', '17', '.', '09', 'anvers_:_marees_basses', ';', '12', '.', '0', '$', '--', 'temperatures', 's', 'alger', '20', 'deg;', 'amsterdam', '17', 'deg;', 'belgrade', '24', 'deg;', 'berlin', '20', 'deg:', 'berne', '21', 'deg;', 'budapest', '26', 'deg;', 'bucarest', '23', 'deg;', 'copenhague', '17', 'deg;', 'dublin_12', 'deg;', 'lisbotne', '19', 'deg:', 'londres', '16_deg;', 'moscou', '15', 'deg;', 'oslo_14', 'deg;', 'ostende', '16_deg;', 'paris', '18', 'deg;', 'pragie', '20', 'deg;', 'reikjavik', '8', 'deg;', 'rome', '23', 'deg;', 'saint_-_hubert', '19', 'deg;', 'sofia', '21', 'deg;', 'stockholm', '114', 'deg;', 'vienne', '22', 'deg;', 'varsovie', '16', '*.'], ['j', 'observations', 'a', 'lcce', ';', 'pression', 'barometrfiue', ':_761', ',', '1', 'mm', '.'], ['temperature', 'a', '7', 'fceures', ':', '15', ',', '7', ',', 'maximum_:', '20', ',', '6_;_minimum', ':', '15', ',', '5', '.'], ['vent_:_direction', '.', '1', 'ouest', ',', 'vitesse', '4', ',', '5', 'm_/_sec', '.'], ['temps', ';', 'brumeux', '.'], ['humidite_;', '89', '%.', '!', \"'\"], ['eaux_recueillies', ';', '00_mm', '.'], ['declinaison_magnetique_:', '6_degres', '43', \"'\", 'ouest', '.'], ['previsions', '<<', 'vent', 'modere', 'du', 'secteur_ouest', '.'], ['ciel_nuageux', 'alternant_avec', 'quelques', 'eclaircies', '.'], ['ctn', 'peu', 'de', 'pluie', ';', 'ou', 'de', 'brume', 'localement', 'temperature_sans', 'grands_changements', '.'], [',', '.....', ',,-', 'finies', 'relative', 'a', \"'.\", 'rasslstarijce', 'a', 'dpmfsr', 'a', 'la', 'republique_coreenne', 'cette_decision', 'est', 'inieressaiite', ',', 'parce_que_le', 'pandit_nehru', ',', 'bien', 'qu', \"'\", 'il', 'reprime', \"-'\", 'impitoyablement', 'toute', 'agitation_communiste', 'aux', '#', 'indes', ',', 's', \"'\", 'est', 'toujours', 'mefie', 'de', 'l', \"'\", 'influence', 'occidentale', 'en_asie', '.'], ['au_cours', 'du', 'debat_sur', 'les', 'affaires', 'de', 'coree', ',', 'qui_se_deroulera', 'mercredi', 'a', 'la', 'chambre', 'des_communes', ',', 'le', 'gouvernement', 'pourra', 'compter_sur', 'l', \"'\", 'appui', 'des', 'conservateurs', 'et', 'des', 'liberaux', '.'], ['si', 'm', '.', 'churchill', 'a', 'insiste_pour_que', 'la', 'discussion', 'se_termine', 'sur', 'un', 'vote', ',', 'c', \"'\", 'est', \"parce_qu_'\", 'il', 'craint', 'que', 'l', \"'\", 'opinion', 'internationale', 'attache', 'trop', 'd', \"'\", 'importance', 'aux', 'reserves', 'qui', 'seront', 'formulees_par', 'certains', 'travaillistes', ',', 'voire', 'par', 'deux', 'ou', 'trois', 'conservateurs', '.'], ['un', 'depute_travailliste', ',', 'm', '.', 'j', '.', 'hudson', ',', 'a', 'presente', 'une_motion', 'dans_laquelle', ',', 'bien', 'qu', \"'\", 'il', 'reconnait', '<<', 'la', 'responsabilite', 'russe', 'en', 'ce_qui_regarde', 'les', 'graves', 'evenements', 'militaires', 'de', 'coree', '>>,', 'il', 'declare_que', 'les', 'agresseurs', 'sont', 'non_seulement', 'les', 'coreens', 'septentrio', 'naux', 'mais', 'encore', '<<', 'les', 'etats_-_unis', 'qui', 'ont', 'enleve', 'au', 'gouvernement_chinois', 'de', 'formose', 'la', 'souverainete', 'ainsi_que', 'le', 'controle', 'qu', \"'\", 'il', 'exercait', 'sur', 'ces_territoires', '>>.'], ['d', \"'\", 'autre_part', ',', '37', 'travaillistes', 'et', '3', 'conservateurs', 'ont', 'signe', ',', 'une_motion', 'invitant', 'le', 'gouvernement_britannique', 'a', 'proposer', 'une', 'reforme', 'de', 'l', \"'\", 'organisation_des_nations', '-_unies', ',', 'pour', 'faire', 'de', 'celle_-_ci', 'un', '<<', 'gouvernement', 'mondial', '>>.'], ['il_est_vraisemblable', 'que', 'la', 'chambre', 'des_communes', 'ratifiera', 'purement', 'et', 'simplement', 'les', 'decisions', 'du_conseil', 'de', 'securite', 'et', 'du', 'gouverne_ment', ';', 'travailliste', '.'], ['j', 'robert', 'de', 'geynst', '.'], ['communication', 'britannique', 'a', 'm', '.', 'andrei', 'a', '.', 'gromyko', ',', 'ministre', '-', 'adjoint', 'des_affaires_etrangeres', '.'], ['la', 'presse', 'russe', 'continue', 'a', 'donner', 'la', 'vedette', 'a', 'l', \"'\", 'appel', 'de', 'stockholm', 'moscou', ',', '30_juin', '.'], ['(_reuter', '.)'], ['aujourd', \"'\", 'hui', 'encore', 'les', 'journaux', 'moscovites', 'donnent', 'la', 'vedette', ',', 'en_premiere_page', ',', 'aux', 'informations_relatives', 'a', 'la', 'campagne', 'de', 'signatures', 'pour', 'l', \"'\", 'appel', 'de', 'stockholm', 'qui', 'a', 'lieu', 'dans', 'toute', 'l', \"'\", 'u', '.'], ['r', '.', 's', '.', 's', '.', 'les', 'informations', 'declarent_que', 'des', 'reunions', 'publiques', 'ont', 'lieu', 'par', 'tout', 'pour', 'soutenir', 'cette', 'campagne', 'et', 'que', 'les', 'orateurs', 'condamnent', 'l', \"'\", 'intervention_americaine', 'en_coree', 'et', 'la', 'qualifient', '<<', 'd', \"'\", 'agression', 'dirigee_contre', 'tous_les', 'peuples_pacifiques', 'du_monde', 'et', 'foulant', 'aux', 'pieds', 'la', 'charte', 'des', '.', 'nations_-_unies', '>>.'], ['les', 'editorialistes', 'declarent_que', 'les', 'peuples', 'sovietiques', 'approuvent', 'unanimement', 'l', \"'\", 'appel', 'de', 'stockholm', 'pour', 'l', \"'\", 'interdiction', 'de', 'la', 'bombe_atomique', 'et', 'pour', 'faire', 'declarer', 'criminel', 'de', 'guerre', 'le', 'premier', 'gouvernement', 'qui', 'l', \"'\", 'utilisera', '.'], ['certains_journaux', 'rappellent', 'hi', 'roshima', 'ainsi_que', 'la', 'declaration_faite', ',', 'il_y', 'a', 'quelques_mois', 'par', 'le_president_truman', ',', 'dans_laquelle', 'il', 'disait', 'qu', \"'\", 'il', 'n', \"'\", 'hesiterait', 'pas', ',', 'a', 'employer', 'de', 'nouveau', 'la', 'bombe_atomique', 'en', 'cas', 'de', 'besoin', '.'], ['les', 'pourparlers', 'se_poursuivent', 'au_conseil', 'de', 'securite', 'lake_success_,', '30_juin', '(', 'a', '.', 'f', '._p_.).'], ['les', 'delegations', 'des', 'etats_membres', 'du_conseil', 'de', 'securite', 'ont_poursuivi', 'jeudi', 'leurs', 'pourparlers', 'en', '-', 'vue', 'de', 'la', 'mise_en_application', 'de', 'la', 'decision_du_conseil', 'recommandant', 'l', \"'\", 'octroi', 'd', \"'\", 'une', 'aide', 'a', 'la', 'coree', 'du', 'sud', '.'], ['il', 's', \"'\", 'agit', ',', 'tout', 'd', \"'\", 'abord', ',', 'de', 'creer', 'un_organisme', 'capable', 'de', 'coordonner', 'l', \"'\", 'action', 'des', 'differents', 'etats', 'car', ',', 'souligne', '-', 't', '-', 'on', 'dans_les_milieux', 'informes', ',', 'il', 'ne_sera', 'pas', 'fait_appel', 'au', 'comite', 'd', \"'\", 'etat_-_major', 'de', 'l', \"'\", 'o', '.', 'n', '.', 'u', '.'], ['qui', ',', 'en_vertu', 'de', 'la', 'charte', ',', 'n', \"'\", 'est', 'competent', 'que', 'pour', 'diriger', 'l', \"'\", 'action', 'des', 'forces', 'de', 'l', \"'\", 'o', '.', 'n', '.', 'u', '.'], ['au_sujet', 'de', 'la', 'constitution', 'desquelles', 'l', \"'\", 'accord', 'n', \"'\", 'a', 'jamais', 'pu_etre', 'realise', '.'], ['en', 'ce_qui_concerne', 'la', 'coree', ',', 'indique', '-', 't', '-', 'on', ',', 'il', 'ne', 's', \"'\", 'agit', 'd', \"'\", 'ailleurs', 'pas', 'de', 'forces', 'de', 'ro', '.', 'n', '.', 'u', ':^', 'mais', 'de', 'contingents', 'que', 'les', 'etats_membres', 'mettent', 'a', 'la', 'disposition', 'de', 'l', \"'\", 'organisation', '.'], ['l', \"'\", 'indonesie', 'entend', 'rester', 'cc', 'l', \"'\", 'ecart', 'de', 'la', 'guerre', 'de', 'coree', 'djakarta', ',', '30_juin', '(', 'a', '._p_.).'], ['m', '.', 'mohammed', 'hatta', ',', 'president_du_conseil', ',', 'a', 'declare_que', 'l', \"'\", 'indonesie', 'n', \"'\", 'etant', 'pas', 'membre_des_nations', '-_unies', ',', 'ne', 'se', 'precipiterait', 'pas', ',', 'comme', 'l', \"'\", 'on', 'fait', '-', 'les', 'pays', '-_bas', ',', 'a', 'l', \"'\", 'aide', 'des', 'coreens', 'du', 'sud', '.'], ['..', '.', ';', '^', 'a', ',.', 'prec', '.', 'ise', ';', 'que', 'les', 'fr', '>', 'ys', '-_bas', ':<?']]\n"
     ]
    }
   ],
   "source": [
    "print(corpus[:100])"
   ]
  },
  {
   "cell_type": "markdown",
   "metadata": {},
   "source": [
    "## Entrainement d'un modèle Word2Vec sur ce corpus"
   ]
  },
  {
   "cell_type": "code",
   "execution_count": 14,
   "metadata": {},
   "outputs": [
    {
     "name": "stdout",
     "output_type": "stream",
     "text": [
      "CPU times: user 16.3 s, sys: 177 ms, total: 16.5 s\n",
      "Wall time: 6.2 s\n"
     ]
    }
   ],
   "source": [
    "%%time\n",
    "model = Word2Vec(\n",
    "    corpus, # On passe le corpus de ngrams que nous venons de créer\n",
    "    vector_size=32, # Le nombre de dimensions dans lesquelles le contexte des mots devra être réduit, aka. vector_size\n",
    "    window=5, # La taille du \"contexte\", ici 5 mots avant et après le mot observé\n",
    "    min_count=5, # On ignore les mots qui n'apparaissent pas au moins 5 fois dans le corpus\n",
    "    workers=4, # Permet de paralléliser l'entraînement du modèle en 4 threads\n",
    "    epochs=5 # Nombre d'itérations du réseau de neurones sur le jeu de données pour ajuster les paramètres avec la descente de gradient, aka. epochs.\n",
    ")"
   ]
  },
  {
   "cell_type": "markdown",
   "metadata": {},
   "source": [
    "#### Remarque\n",
    "\n",
    "Vous voyez ici que l'entrainement du modèle est parallélisé (sur 4 workers).\n",
    "\n",
    "Lors qu'on parallélise l'entrainement du modèle, 4 modèles \"séparés\" sont entrainés sur environ un quart des phrases.\n",
    "\n",
    "Ensuite, les résultats sont agrégés pour ne plus faire qu'un seul modèle.\n",
    "\n",
    "On ne peut prédire quel worker aura quelle phrase, car il y a des aléas lors de la parallélisation (p. ex. un worker qui serait plus lent, etc.).\n",
    "\n",
    "Du coup, les valeurs peuvent varier légèrement d'un entrainement à l'autre.\n",
    "\n",
    "Mais, globalement, les résultats restent cohérents."
   ]
  },
  {
   "cell_type": "markdown",
   "metadata": {},
   "source": [
    "### Sauver le modèle dans un fichier"
   ]
  },
  {
   "cell_type": "code",
   "execution_count": 15,
   "metadata": {},
   "outputs": [],
   "source": [
    "outfile = f\"../data/newspapers.model\"\n",
    "model.save(outfile)"
   ]
  },
  {
   "cell_type": "markdown",
   "metadata": {},
   "source": [
    "## Explorer le modèle"
   ]
  },
  {
   "cell_type": "markdown",
   "metadata": {},
   "source": [
    "### Charger le modèle en mémoire"
   ]
  },
  {
   "cell_type": "code",
   "execution_count": 16,
   "metadata": {},
   "outputs": [],
   "source": [
    "model = Word2Vec.load(\"../data/newspapers.model\")"
   ]
  },
  {
   "cell_type": "markdown",
   "metadata": {},
   "source": [
    "### Imprimer le vecteur d'un terme"
   ]
  },
  {
   "cell_type": "code",
   "execution_count": 17,
   "metadata": {},
   "outputs": [
    {
     "data": {
      "text/plain": [
       "array([-2.73394   ,  1.1337913 ,  0.40669492,  1.9797053 , -4.7787576 ,\n",
       "        0.3724211 ,  0.08412026,  2.563389  , -1.2853564 ,  1.8219448 ,\n",
       "        0.972109  , -6.2818866 , -2.7329767 ,  0.3063019 ,  2.1111825 ,\n",
       "       -2.520036  , -0.55125207, -0.17013268, -0.51343006,  0.7840533 ,\n",
       "        3.838268  , -0.890201  ,  0.29639888,  4.3204856 ,  1.7620552 ,\n",
       "       -2.1350093 ,  4.744159  , -4.788518  ,  1.9212629 ,  0.45041132,\n",
       "       -0.43642777, -0.19517875], dtype=float32)"
      ]
     },
     "execution_count": 17,
     "metadata": {},
     "output_type": "execute_result"
    }
   ],
   "source": [
    "model.wv[\"guerre\"]"
   ]
  },
  {
   "cell_type": "markdown",
   "metadata": {},
   "source": [
    "### Calculer la similarité entre deux termes"
   ]
  },
  {
   "cell_type": "code",
   "execution_count": 18,
   "metadata": {},
   "outputs": [
    {
     "data": {
      "text/plain": [
       "0.7126774"
      ]
     },
     "execution_count": 18,
     "metadata": {},
     "output_type": "execute_result"
    }
   ],
   "source": [
    "model.wv.similarity(\"ministre\", \"roi\")"
   ]
  },
  {
   "cell_type": "markdown",
   "metadata": {},
   "source": [
    "### Chercher les mots les plus proches d'un terme donné"
   ]
  },
  {
   "cell_type": "code",
   "execution_count": 19,
   "metadata": {},
   "outputs": [
    {
     "data": {
      "text/plain": [
       "[('coree', 0.8069037795066833),\n",
       " ('chine', 0.8015821576118469),\n",
       " ('campagne', 0.7715840339660645),\n",
       " ('les_evenements', 0.7703481912612915),\n",
       " ('lutte', 0.7339529395103455),\n",
       " ('mandchourie', 0.7277742028236389),\n",
       " ('toutes_les_troupes_etrangeres', 0.7200883626937866),\n",
       " ('ligne', 0.7161356210708618),\n",
       " ('russie', 0.7106516361236572),\n",
       " ('liberation', 0.7013394832611084)]"
      ]
     },
     "execution_count": 19,
     "metadata": {},
     "output_type": "execute_result"
    }
   ],
   "source": [
    "model.wv.most_similar(\"guerre\", topn=10)"
   ]
  },
  {
   "cell_type": "code",
   "execution_count": 20,
   "metadata": {},
   "outputs": [
    {
     "data": {
      "text/plain": [
       "[('gouvernement_britannique', 0.8833344578742981),\n",
       " ('gouvernement_sovietique', 0.822905957698822),\n",
       " ('gouvernement_americain', 0.8190860748291016),\n",
       " ('chancelier', 0.8177461624145508),\n",
       " ('kremlin', 0.7836843729019165),\n",
       " ('conseil', 0.763762354850769),\n",
       " ('parlement', 0.7635948061943054),\n",
       " ('gouvernement_francais', 0.7597137093544006),\n",
       " ('president_eisenhower', 0.7536940574645996),\n",
       " ('premier_ministre', 0.7530848979949951)]"
      ]
     },
     "execution_count": 20,
     "metadata": {},
     "output_type": "execute_result"
    }
   ],
   "source": [
    "model.wv.most_similar(\"gouvernement\", topn=10)"
   ]
  },
  {
   "cell_type": "code",
   "execution_count": 21,
   "metadata": {},
   "outputs": [
    {
     "data": {
      "text/plain": [
       "[('en_coree', 0.8746688365936279),\n",
       " ('chine', 0.8735305070877075),\n",
       " ('formose', 0.8349776864051819),\n",
       " ('guerre', 0.8069037795066833),\n",
       " ('mandchourie', 0.7714316248893738),\n",
       " ('chine_communiste', 0.7629627585411072),\n",
       " ('sud', 0.7339551448822021),\n",
       " ('russie', 0.7313560247421265),\n",
       " ('des_nations_-_unies', 0.7273073792457581),\n",
       " ('nord', 0.7196094393730164)]"
      ]
     },
     "execution_count": 21,
     "metadata": {},
     "output_type": "execute_result"
    }
   ],
   "source": [
    "model.wv.most_similar(\"coree\", topn=10)"
   ]
  },
  {
   "cell_type": "code",
   "execution_count": 22,
   "metadata": {},
   "outputs": [
    {
     "data": {
      "text/plain": [
       "[('chef', 0.8671518564224243),\n",
       " ('president', 0.8091784715652466),\n",
       " ('premier_ministre', 0.7929507493972778),\n",
       " ('marechal', 0.7752862572669983),\n",
       " ('communique', 0.7669019103050232),\n",
       " ('ministre', 0.7568894624710083),\n",
       " ('cabinet', 0.7533312439918518),\n",
       " ('colonel', 0.750442624092102),\n",
       " ('general_eisenhower', 0.7473904490470886),\n",
       " ('secretaire', 0.7458898425102234)]"
      ]
     },
     "execution_count": 22,
     "metadata": {},
     "output_type": "execute_result"
    }
   ],
   "source": [
    "model.wv.most_similar(\"general\", topn=10)"
   ]
  },
  {
   "cell_type": "code",
   "execution_count": 23,
   "metadata": {},
   "outputs": [
    {
     "data": {
      "text/plain": [
       "[('conclusion', 0.8591688275337219),\n",
       " ('menace', 0.8437749743461609),\n",
       " ('volonte', 0.8413587808609009),\n",
       " ('paix', 0.8402823805809021),\n",
       " ('position', 0.8400108814239502)]"
      ]
     },
     "execution_count": 23,
     "metadata": {},
     "output_type": "execute_result"
    }
   ],
   "source": [
    "model.wv.most_similar(\"politique\", topn=5)"
   ]
  },
  {
   "cell_type": "code",
   "execution_count": 24,
   "metadata": {},
   "outputs": [
    {
     "data": {
      "text/plain": [
       "[('president_du_conseil', 0.9065456986427307),\n",
       " ('ministre', 0.8825893998146057),\n",
       " ('premier_ministre', 0.8774160742759705),\n",
       " ('au_nom', 0.8607130646705627),\n",
       " ('delegue', 0.8532878756523132),\n",
       " ('secretaire', 0.8513514995574951),\n",
       " ('senateur', 0.8492695689201355),\n",
       " ('cabinet', 0.8483782410621643),\n",
       " ('conseiller', 0.8406466841697693),\n",
       " ('ministre_des_finances', 0.8119514584541321)]"
      ]
     },
     "execution_count": 24,
     "metadata": {},
     "output_type": "execute_result"
    }
   ],
   "source": [
    "model.wv.most_similar(\"president\", topn=10)"
   ]
  },
  {
   "cell_type": "code",
   "execution_count": 25,
   "metadata": {},
   "outputs": [
    {
     "data": {
      "text/plain": [
       "[('cas', 0.7969898581504822),\n",
       " ('probleme', 0.7299181818962097),\n",
       " ('territoire', 0.712498128414154),\n",
       " ('progres', 0.7116485238075256),\n",
       " ('moyen_orient', 0.7112061381340027),\n",
       " ('japon', 0.7008605003356934),\n",
       " ('mouvement', 0.6820946335792542),\n",
       " ('regime', 0.6699736714363098),\n",
       " ('conflit', 0.6693381071090698),\n",
       " ('developpement', 0.6653424501419067)]"
      ]
     },
     "execution_count": 25,
     "metadata": {},
     "output_type": "execute_result"
    }
   ],
   "source": [
    "model.wv.most_similar(\"pays\", topn=10)"
   ]
  },
  {
   "cell_type": "code",
   "execution_count": 26,
   "metadata": {},
   "outputs": [
    {
     "data": {
      "text/plain": [
       "[('premier_ministre', 0.8966644406318665),\n",
       " ('president', 0.8825893998146057),\n",
       " ('president_du_conseil', 0.8374601602554321),\n",
       " ('secretaire', 0.8367466330528259),\n",
       " ('ministere', 0.8325507044792175)]"
      ]
     },
     "execution_count": 26,
     "metadata": {},
     "output_type": "execute_result"
    }
   ],
   "source": [
    "model.wv.most_similar(\"ministre\", topn=5)"
   ]
  },
  {
   "cell_type": "code",
   "execution_count": 27,
   "metadata": {},
   "outputs": [
    {
     "data": {
      "text/plain": [
       "[('troupes', 0.8973504900932312),\n",
       " ('armees', 0.8633828163146973),\n",
       " ('allies', 0.8591504096984863),\n",
       " ('forces_americaines', 0.8407933115959167),\n",
       " ('operations', 0.838506281375885),\n",
       " ('frontieres', 0.8179177641868591)]"
      ]
     },
     "execution_count": 27,
     "metadata": {},
     "output_type": "execute_result"
    }
   ],
   "source": [
    "model.wv.most_similar(\"forces\", topn=6)"
   ]
  },
  {
   "cell_type": "code",
   "execution_count": 28,
   "metadata": {},
   "outputs": [
    {
     "data": {
      "text/plain": [
       "[('sovietique', 0.9028414487838745),\n",
       " ('britannique', 0.8819445967674255),\n",
       " ('russe', 0.8708498477935791),\n",
       " ('du_parti', 0.813569962978363),\n",
       " ('des_nations_-_unies', 0.7826350331306458),\n",
       " ('formose', 0.757843017578125),\n",
       " ('militaire', 0.7576049566268921)]"
      ]
     },
     "execution_count": 28,
     "metadata": {},
     "output_type": "execute_result"
    }
   ],
   "source": [
    "model.wv.most_similar(\"communiste\", topn=7)"
   ]
  },
  {
   "cell_type": "code",
   "execution_count": 29,
   "metadata": {},
   "outputs": [
    {
     "data": {
      "text/plain": [
       "[('britannique', 0.9223195314407349),\n",
       " ('russe', 0.9081735610961914),\n",
       " ('communiste', 0.9028413891792297),\n",
       " ('diplomatique', 0.8345897793769836),\n",
       " ('militaire', 0.8283159136772156)]"
      ]
     },
     "execution_count": 29,
     "metadata": {},
     "output_type": "execute_result"
    }
   ],
   "source": [
    "model.wv.most_similar(\"sovietique\", topn=5)"
   ]
  },
  {
   "cell_type": "markdown",
   "metadata": {},
   "source": [
    "### Faire des recherches complexes à travers l'espace vectoriel"
   ]
  },
  {
   "cell_type": "code",
   "execution_count": 30,
   "metadata": {},
   "outputs": [
    {
     "data": {
      "text/plain": [
       "[('gouvernement_britannique', 0.8833344578742981),\n",
       " ('gouvernement_sovietique', 0.822905957698822),\n",
       " ('gouvernement_americain', 0.8190860748291016),\n",
       " ('chancelier', 0.8177461624145508),\n",
       " ('kremlin', 0.7836843729019165)]"
      ]
     },
     "execution_count": 30,
     "metadata": {},
     "output_type": "execute_result"
    }
   ],
   "source": [
    "model.wv.most_similar(\"gouvernement\", topn=5)"
   ]
  }
 ],
 "metadata": {
  "kernelspec": {
   "display_name": "Python 3.10.7 ('tac_venv': venv)",
   "language": "python",
   "name": "python3"
  },
  "language_info": {
   "codemirror_mode": {
    "name": "ipython",
    "version": 3
   },
   "file_extension": ".py",
   "mimetype": "text/x-python",
   "name": "python",
   "nbconvert_exporter": "python",
   "pygments_lexer": "ipython3",
   "version": "3.10.7"
  },
  "vscode": {
   "interpreter": {
    "hash": "4d4aa92c91ff20a7f731610d6030887aa3052b801eaf689def2ca205c2a2e316"
   }
  }
 },
 "nbformat": 4,
 "nbformat_minor": 4
}
